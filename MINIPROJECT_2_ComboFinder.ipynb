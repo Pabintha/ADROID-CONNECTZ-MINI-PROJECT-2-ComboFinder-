{
  "nbformat": 4,
  "nbformat_minor": 0,
  "metadata": {
    "colab": {
      "provenance": [],
      "authorship_tag": "ABX9TyMAB526Wl6/Yf1RqPOigG9H",
      "include_colab_link": true
    },
    "kernelspec": {
      "name": "python3",
      "display_name": "Python 3"
    },
    "language_info": {
      "name": "python"
    }
  },
  "cells": [
    {
      "cell_type": "markdown",
      "metadata": {
        "id": "view-in-github",
        "colab_type": "text"
      },
      "source": [
        "<a href=\"https://colab.research.google.com/github/Pabintha/ADROID-CONNECTZ-MINI-PROJECT-2-ComboFinder-/blob/main/MINIPROJECT_2_ComboFinder.ipynb\" target=\"_parent\"><img src=\"https://colab.research.google.com/assets/colab-badge.svg\" alt=\"Open In Colab\"/></a>"
      ]
    },
    {
      "cell_type": "markdown",
      "source": [
        "Find all the list of products whose sum-of-price is between 290 and 310.\n",
        "\n",
        "ProductList = {p1:10, p2:15, p3:20, p4:25, p5:30, p6:35, p7:50}"
      ],
      "metadata": {
        "id": "K0Iwx9GM0V-1"
      }
    },
    {
      "cell_type": "code",
      "source": [
        "import random as r"
      ],
      "metadata": {
        "id": "XHOFtsSl0W3f"
      },
      "execution_count": null,
      "outputs": []
    },
    {
      "cell_type": "code",
      "source": [
        "ProductList = {'p1':10, 'p2':15, 'p3':20, 'p4':25, 'p5':30, 'p6':35, 'p7':50,\n",
        "               'p8':40, 'p9':55, 'p10':60, 'p11':65, 'p12':75, 'p13':70,\n",
        "               'p14':45}\n",
        "LB          = 290\n",
        "UB          = 310\n",
        "ResultList  = set()   # Store Result List i.e. list of sets whose sum is between 90 and 210.\n",
        "Iterations  = 1000    # Number of Inerations"
      ],
      "metadata": {
        "id": "JwGW2JuQzitw"
      },
      "execution_count": null,
      "outputs": []
    },
    {
      "cell_type": "code",
      "source": [
        "# Select combo size (i.e. number of products in a combo)\n",
        "SetSize = r.randint(2, len(ProductList)-1)\n",
        "print(\"Number of Product: \", SetSize)\n",
        "\n",
        "\n",
        "# Select number of elements from Set\n",
        "ComboList = r.sample(list(ProductList.keys()),SetSize)\n",
        "print(\"Product List     : \", ComboList)\n",
        "\n",
        "\n",
        "# Sum the products in ColboList\n",
        "ComboSum = sum([ ProductList[i] for i in ComboList])\n",
        "print(\"Sum of Product   : \", ComboSum)"
      ],
      "metadata": {
        "colab": {
          "base_uri": "https://localhost:8080/"
        },
        "id": "k3S4jY1Qznel",
        "outputId": "0af83320-7120-437e-883e-df247fa8f1f6"
      },
      "execution_count": null,
      "outputs": [
        {
          "output_type": "stream",
          "name": "stdout",
          "text": [
            "Number of Product:  9\n",
            "Product List     :  ['p8', 'p13', 'p6', 'p7', 'p9', 'p11', 'p12', 'p1', 'p3']\n",
            "Sum of Product   :  420\n"
          ]
        }
      ]
    },
    {
      "cell_type": "code",
      "source": [
        "# Loop till number of Iterations\n",
        "ResultList  = set()\n",
        "\n",
        "for i in range(Iterations):\n",
        "\n",
        "    # Select combo size (i.e. number of products in a combo)\n",
        "    SetSize = r.randint(2, len(ProductList)-1)\n",
        "\n",
        "    # Select number of elements from Set\n",
        "    ComboList = r.sample(list(ProductList.keys()),SetSize)\n",
        "\n",
        "    # Sum the products in ColboList\n",
        "    ComboSum = sum([ ProductList[i] for i in ComboList])\n",
        "\n",
        "    # Check the Sum Between LB and UB\n",
        "    if ComboSum>= LB and ComboSum<= UB:\n",
        "      ResultList.add(tuple(ComboList))\n",
        "\n",
        "print(\"Done\")"
      ],
      "metadata": {
        "colab": {
          "base_uri": "https://localhost:8080/"
        },
        "id": "GcR4kOdLzqDE",
        "outputId": "40ac7ee1-5f27-471c-e16a-671d5d723844"
      },
      "execution_count": null,
      "outputs": [
        {
          "output_type": "stream",
          "name": "stdout",
          "text": [
            "Done\n"
          ]
        }
      ]
    },
    {
      "cell_type": "code",
      "source": [
        "# Print all the sets whose sum is between LB and UB\n",
        "for r in ResultList:\n",
        "\tprint (r)\n",
        "\n",
        "# Print total sets\n",
        "print (\"\\nTotal Sets: \", len(ResultList), \"\\n\")"
      ],
      "metadata": {
        "colab": {
          "base_uri": "https://localhost:8080/"
        },
        "id": "zGYb-Vw2ztBs",
        "outputId": "e4c384a6-6ab5-4d2d-cbc4-ae7879b580a5"
      },
      "execution_count": null,
      "outputs": [
        {
          "output_type": "stream",
          "name": "stdout",
          "text": [
            "('p6', 'p7', 'p5', 'p10', 'p2', 'p8', 'p11', 'p1')\n",
            "('p4', 'p8', 'p1', 'p12', 'p13', 'p11', 'p3')\n",
            "('p11', 'p5', 'p7', 'p9', 'p6', 'p10')\n",
            "('p5', 'p10', 'p1', 'p13', 'p3', 'p2', 'p6', 'p7')\n",
            "('p5', 'p10', 'p7', 'p11', 'p6', 'p1', 'p9')\n",
            "('p3', 'p2', 'p12', 'p9', 'p10', 'p1', 'p11')\n",
            "('p14', 'p2', 'p6', 'p1', 'p8', 'p7', 'p9', 'p10')\n",
            "('p8', 'p14', 'p13', 'p6', 'p4', 'p3', 'p12')\n",
            "('p2', 'p7', 'p8', 'p6', 'p11', 'p14', 'p5', 'p3')\n",
            "('p13', 'p14', 'p5', 'p12', 'p8', 'p4', 'p3')\n",
            "('p1', 'p13', 'p8', 'p9', 'p4', 'p5', 'p3', 'p7')\n",
            "('p10', 'p12', 'p4', 'p2', 'p6', 'p9', 'p8')\n",
            "('p10', 'p1', 'p8', 'p14', 'p13', 'p7', 'p3')\n",
            "('p11', 'p3', 'p10', 'p7', 'p13', 'p8')\n",
            "('p11', 'p13', 'p14', 'p7', 'p10')\n",
            "('p10', 'p11', 'p2', 'p8', 'p9', 'p6', 'p4')\n",
            "('p1', 'p8', 'p3', 'p11', 'p12', 'p4', 'p10')\n",
            "('p4', 'p10', 'p9', 'p1', 'p13', 'p14', 'p6')\n",
            "('p14', 'p10', 'p7', 'p13', 'p4', 'p3', 'p5')\n",
            "('p11', 'p8', 'p4', 'p10', 'p2', 'p13', 'p3')\n",
            "('p11', 'p4', 'p3', 'p12', 'p2', 'p13', 'p1', 'p5')\n",
            "('p12', 'p11', 'p5', 'p13', 'p9')\n",
            "('p5', 'p4', 'p11', 'p8', 'p2', 'p3', 'p9', 'p10')\n",
            "('p12', 'p13', 'p10', 'p2', 'p11', 'p4')\n",
            "('p9', 'p11', 'p4', 'p5', 'p8', 'p14', 'p7')\n",
            "('p14', 'p3', 'p2', 'p12', 'p9', 'p4', 'p1', 'p11')\n",
            "('p6', 'p14', 'p7', 'p2', 'p12', 'p10', 'p4')\n",
            "('p2', 'p10', 'p4', 'p14', 'p12', 'p8', 'p7')\n",
            "('p8', 'p14', 'p10', 'p9', 'p3', 'p1', 'p11', 'p2')\n",
            "('p11', 'p1', 'p5', 'p12', 'p10', 'p3', 'p14')\n",
            "('p2', 'p6', 'p1', 'p11', 'p12', 'p13', 'p4')\n",
            "('p6', 'p5', 'p10', 'p12', 'p13', 'p1', 'p2')\n",
            "('p1', 'p3', 'p6', 'p10', 'p7', 'p13', 'p14')\n",
            "('p6', 'p12', 'p11', 'p13', 'p10')\n",
            "('p5', 'p13', 'p3', 'p10', 'p7', 'p1', 'p11')\n",
            "\n",
            "Total Sets:  35 \n",
            "\n"
          ]
        }
      ]
    }
  ]
}